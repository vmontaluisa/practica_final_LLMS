{
 "cells": [
  {
   "cell_type": "markdown",
   "metadata": {},
   "source": [
    "## Librerias"
   ]
  },
  {
   "cell_type": "code",
   "execution_count": 15,
   "metadata": {},
   "outputs": [
    {
     "name": "stdout",
     "output_type": "stream",
     "text": [
      "Requirement already satisfied: transformers in /opt/homebrew/lib/python3.11/site-packages (4.48.2)\n",
      "Requirement already satisfied: sentencepiece in /opt/homebrew/lib/python3.11/site-packages (0.2.0)\n",
      "Requirement already satisfied: huggingface-hub in /opt/homebrew/lib/python3.11/site-packages (0.28.1)\n",
      "Requirement already satisfied: datasets in /opt/homebrew/lib/python3.11/site-packages (3.2.0)\n",
      "Requirement already satisfied: torch in /opt/homebrew/lib/python3.11/site-packages (2.6.0)\n",
      "Requirement already satisfied: matplotlib in /opt/homebrew/lib/python3.11/site-packages (3.10.0)\n",
      "Requirement already satisfied: scikit-learn in /opt/homebrew/lib/python3.11/site-packages (1.6.1)\n",
      "Requirement already satisfied: tqdm in /opt/homebrew/lib/python3.11/site-packages (4.67.0)\n",
      "Requirement already satisfied: watchdog in /opt/homebrew/lib/python3.11/site-packages (6.0.0)\n",
      "Requirement already satisfied: filelock in /opt/homebrew/lib/python3.11/site-packages (from transformers) (3.17.0)\n",
      "Requirement already satisfied: numpy>=1.17 in /opt/homebrew/lib/python3.11/site-packages (from transformers) (2.0.2)\n",
      "Requirement already satisfied: packaging>=20.0 in /opt/homebrew/lib/python3.11/site-packages (from transformers) (24.2)\n",
      "Requirement already satisfied: pyyaml>=5.1 in /opt/homebrew/lib/python3.11/site-packages (from transformers) (6.0.2)\n",
      "Requirement already satisfied: regex!=2019.12.17 in /opt/homebrew/lib/python3.11/site-packages (from transformers) (2024.11.6)\n",
      "Requirement already satisfied: requests in /opt/homebrew/lib/python3.11/site-packages (from transformers) (2.32.3)\n",
      "Requirement already satisfied: tokenizers<0.22,>=0.21 in /opt/homebrew/lib/python3.11/site-packages (from transformers) (0.21.0)\n",
      "Requirement already satisfied: safetensors>=0.4.1 in /opt/homebrew/lib/python3.11/site-packages (from transformers) (0.5.2)\n",
      "Requirement already satisfied: fsspec>=2023.5.0 in /opt/homebrew/lib/python3.11/site-packages (from huggingface-hub) (2024.9.0)\n",
      "Requirement already satisfied: typing-extensions>=3.7.4.3 in /opt/homebrew/lib/python3.11/site-packages (from huggingface-hub) (4.12.2)\n",
      "Requirement already satisfied: pyarrow>=15.0.0 in /opt/homebrew/lib/python3.11/site-packages (from datasets) (19.0.0)\n",
      "Requirement already satisfied: dill<0.3.9,>=0.3.0 in /opt/homebrew/lib/python3.11/site-packages (from datasets) (0.3.8)\n",
      "Requirement already satisfied: pandas in /opt/homebrew/lib/python3.11/site-packages (from datasets) (2.2.3)\n",
      "Requirement already satisfied: xxhash in /opt/homebrew/lib/python3.11/site-packages (from datasets) (3.5.0)\n",
      "Requirement already satisfied: multiprocess<0.70.17 in /opt/homebrew/lib/python3.11/site-packages (from datasets) (0.70.16)\n",
      "Requirement already satisfied: aiohttp in /opt/homebrew/lib/python3.11/site-packages (from datasets) (3.11.11)\n",
      "Requirement already satisfied: networkx in /opt/homebrew/lib/python3.11/site-packages (from torch) (3.4.2)\n",
      "Requirement already satisfied: jinja2 in /opt/homebrew/lib/python3.11/site-packages (from torch) (3.1.4)\n",
      "Requirement already satisfied: sympy==1.13.1 in /opt/homebrew/lib/python3.11/site-packages (from torch) (1.13.1)\n",
      "Requirement already satisfied: mpmath<1.4,>=1.1.0 in /opt/homebrew/lib/python3.11/site-packages (from sympy==1.13.1->torch) (1.3.0)\n",
      "Requirement already satisfied: contourpy>=1.0.1 in /opt/homebrew/lib/python3.11/site-packages (from matplotlib) (1.3.1)\n",
      "Requirement already satisfied: cycler>=0.10 in /opt/homebrew/lib/python3.11/site-packages (from matplotlib) (0.12.1)\n",
      "Requirement already satisfied: fonttools>=4.22.0 in /opt/homebrew/lib/python3.11/site-packages (from matplotlib) (4.55.8)\n",
      "Requirement already satisfied: kiwisolver>=1.3.1 in /opt/homebrew/lib/python3.11/site-packages (from matplotlib) (1.4.8)\n",
      "Requirement already satisfied: pillow>=8 in /opt/homebrew/lib/python3.11/site-packages (from matplotlib) (11.1.0)\n",
      "Requirement already satisfied: pyparsing>=2.3.1 in /opt/homebrew/lib/python3.11/site-packages (from matplotlib) (3.2.1)\n",
      "Requirement already satisfied: python-dateutil>=2.7 in /opt/homebrew/lib/python3.11/site-packages (from matplotlib) (2.9.0.post0)\n",
      "Requirement already satisfied: scipy>=1.6.0 in /opt/homebrew/lib/python3.11/site-packages (from scikit-learn) (1.15.1)\n",
      "Requirement already satisfied: joblib>=1.2.0 in /opt/homebrew/lib/python3.11/site-packages (from scikit-learn) (1.4.2)\n",
      "Requirement already satisfied: threadpoolctl>=3.1.0 in /opt/homebrew/lib/python3.11/site-packages (from scikit-learn) (3.5.0)\n",
      "Requirement already satisfied: aiohappyeyeballs>=2.3.0 in /opt/homebrew/lib/python3.11/site-packages (from aiohttp->datasets) (2.4.4)\n",
      "Requirement already satisfied: aiosignal>=1.1.2 in /opt/homebrew/lib/python3.11/site-packages (from aiohttp->datasets) (1.3.2)\n",
      "Requirement already satisfied: attrs>=17.3.0 in /opt/homebrew/lib/python3.11/site-packages (from aiohttp->datasets) (24.2.0)\n",
      "Requirement already satisfied: frozenlist>=1.1.1 in /opt/homebrew/lib/python3.11/site-packages (from aiohttp->datasets) (1.5.0)\n",
      "Requirement already satisfied: multidict<7.0,>=4.5 in /opt/homebrew/lib/python3.11/site-packages (from aiohttp->datasets) (6.1.0)\n",
      "Requirement already satisfied: propcache>=0.2.0 in /opt/homebrew/lib/python3.11/site-packages (from aiohttp->datasets) (0.2.1)\n",
      "Requirement already satisfied: yarl<2.0,>=1.17.0 in /opt/homebrew/lib/python3.11/site-packages (from aiohttp->datasets) (1.18.3)\n",
      "Requirement already satisfied: six>=1.5 in /opt/homebrew/lib/python3.11/site-packages (from python-dateutil>=2.7->matplotlib) (1.16.0)\n",
      "Requirement already satisfied: charset-normalizer<4,>=2 in /opt/homebrew/lib/python3.11/site-packages (from requests->transformers) (3.4.0)\n",
      "Requirement already satisfied: idna<4,>=2.5 in /opt/homebrew/lib/python3.11/site-packages (from requests->transformers) (3.10)\n",
      "Requirement already satisfied: urllib3<3,>=1.21.1 in /opt/homebrew/lib/python3.11/site-packages (from requests->transformers) (2.2.3)\n",
      "Requirement already satisfied: certifi>=2017.4.17 in /opt/homebrew/lib/python3.11/site-packages (from requests->transformers) (2024.8.30)\n",
      "Requirement already satisfied: MarkupSafe>=2.0 in /opt/homebrew/lib/python3.11/site-packages (from jinja2->torch) (3.0.2)\n",
      "Requirement already satisfied: pytz>=2020.1 in /opt/homebrew/lib/python3.11/site-packages (from pandas->datasets) (2024.2)\n",
      "Requirement already satisfied: tzdata>=2022.7 in /opt/homebrew/lib/python3.11/site-packages (from pandas->datasets) (2024.2)\n",
      "Note: you may need to restart the kernel to use updated packages.\n",
      "Requirement already satisfied: pip in /opt/homebrew/lib/python3.11/site-packages (25.0)\n",
      "Note: you may need to restart the kernel to use updated packages.\n"
     ]
    }
   ],
   "source": [
    "%pip install transformers  sentencepiece huggingface-hub datasets transformers datasets torch matplotlib  scikit-learn tqdm watchdog\n",
    "%pip install --upgrade pip \n"
   ]
  },
  {
   "cell_type": "code",
   "execution_count": 16,
   "metadata": {},
   "outputs": [],
   "source": [
    "import re\n",
    "import torch\n",
    "from datasets import load_dataset\n",
    "from torch.utils.data import Dataset, DataLoader\n",
    "from transformers import GPT2Tokenizer, GPT2LMHeadModel, AdamW, get_linear_schedule_with_warmup\n",
    "from torch.nn import functional as F\n",
    "\n",
    "import time\n",
    "import torch\n",
    "import matplotlib.pyplot as plt\n",
    "from sklearn.metrics import accuracy_score, f1_score\n",
    "from transformers import GPT2LMHeadModel, GPT2Tokenizer, AdamW, get_linear_schedule_with_warmup\n",
    "from torch.utils.data import DataLoader, Dataset\n",
    "import re\n",
    "from tqdm import tqdm  # Importar tqdm para las barras de progreso\n"
   ]
  },
  {
   "cell_type": "markdown",
   "metadata": {},
   "source": [
    "## Variables"
   ]
  },
  {
   "cell_type": "code",
   "execution_count": 17,
   "metadata": {},
   "outputs": [],
   "source": [
    "\n",
    "DATASET=\"Arodrigo/dataset-correos-soporte1\"\n",
    "TOKENIZADOR='DeepESP/gpt2-spanish'\n",
    "MODELO='DeepESP/gpt2-spanish'\n",
    "\n",
    "directorio_dataset='dataset'\n"
   ]
  },
  {
   "cell_type": "markdown",
   "metadata": {},
   "source": [
    "## 1. Preparar  dataset para entrenamiento:\n"
   ]
  },
  {
   "cell_type": "code",
   "execution_count": 18,
   "metadata": {},
   "outputs": [
    {
     "name": "stderr",
     "output_type": "stream",
     "text": [
      "Saving the dataset (1/1 shards): 100%|██████████| 539/539 [00:00<00:00, 150015.25 examples/s]\n",
      "Saving the dataset (1/1 shards): 100%|██████████| 102/102 [00:00<00:00, 63939.47 examples/s]\n"
     ]
    }
   ],
   "source": [
    "#cargar dataset\n",
    "from datasets import load_dataset\n",
    "dataset = load_dataset(DATASET)\n",
    "\n",
    "# Cargar el dataset desde el archivo local\n",
    "#dataset = load_dataset('json', data_files='dataset_correos_soporte_train.json')\n",
    "dataset.save_to_disk(directorio_dataset)"
   ]
  },
  {
   "cell_type": "code",
   "execution_count": 19,
   "metadata": {},
   "outputs": [],
   "source": [
    "# Cargar el tokenizador y el modelo GPT-2 en español\n",
    "tokenizer = GPT2Tokenizer.from_pretrained(TOKENIZADOR)\n",
    "model = GPT2LMHeadModel.from_pretrained(MODELO)\n",
    "\n"
   ]
  },
  {
   "cell_type": "code",
   "execution_count": 20,
   "metadata": {},
   "outputs": [],
   "source": [
    "# Función de limpieza de texto\n",
    "def clean_text(text):\n",
    "    \n",
    "    text = text.strip()  # Quitar espacios iniciales y finales\n",
    "    text = text.replace('\\u00f3', 'ó')  # Reemplazar caracteres especiales\n",
    "    text = text.replace('\\u00e1', 'á')\n",
    "    text = text.replace('\\u00ed', 'í')\n",
    "    text = text.replace('\\u00fa', 'ú')\n",
    "    text = text.replace('\\u00e9', 'é')\n",
    "    text = text.replace('\\u00f1', 'ñ')\n",
    "    text = text.replace('\\u00bf', '¿')\n",
    "    text = text.replace('\\u00a1', '¡')\n",
    "    text = text.lower() \n",
    "    # Eliminar URL (si las hay)\n",
    "    text = re.sub(r\"http\\S+|www\\S+|https\\S+\", \"\", text)\n",
    "    # Eliminar caracteres especiales\n",
    "    text = re.sub(r\"[^A-Za-z0-9áéíóúÁÉÍÓÚñÑüÜ.,!?¿¡ ]+\", \" \", text)\n",
    "    # Eliminar espacios extra\n",
    "    text = ' '.join(text.split())\n",
    "    return text\n",
    "\n",
    "\n",
    "# Preprocesar el dataset\n",
    "def preprocess_data(dataset):\n",
    "    cleaned_texts = [clean_text(item['text']) for item in dataset['train']]  # 'text' es la clave del texto\n",
    "    cleaned_labels = [item['label'] for item in dataset['train']]  # 'label' es la clave de las etiquetas\n",
    "    return cleaned_texts, cleaned_labels\n",
    "\n",
    "# Tokenizar el texto\n",
    "def tokenize_texts(texts):\n",
    "    return tokenizer(texts, padding=True, truncation=True, max_length=512, return_tensors='pt')\n",
    "\n",
    "# Preparar el dataset\n",
    "class SupportDataset(Dataset):\n",
    "    def __init__(self, texts, labels, tokenizer):\n",
    "        self.texts = texts\n",
    "        self.labels = labels\n",
    "        self.tokenizer = tokenizer\n",
    "\n",
    "    def __len__(self):\n",
    "        return len(self.texts)\n",
    "\n",
    "    def __getitem__(self, idx):\n",
    "        text = self.texts[idx]\n",
    "        label = self.labels[idx]\n",
    "        encoding = self.tokenizer(text, padding='max_length', truncation=True, max_length=512, return_tensors='pt')\n",
    "        return {\n",
    "            'input_ids': encoding['input_ids'].squeeze(0),\n",
    "            'attention_mask': encoding['attention_mask'].squeeze(0),\n",
    "          #  'labels': torch.tensor(label)  # Aseguramos que la etiqueta sea un tensor\n",
    "            'labels': encoding['input_ids'].squeeze(0)  # Las etiquetas son las mismas que las entradas\n",
    "        }"
   ]
  },
  {
   "cell_type": "code",
   "execution_count": 21,
   "metadata": {},
   "outputs": [
    {
     "name": "stderr",
     "output_type": "stream",
     "text": [
      "/opt/homebrew/lib/python3.11/site-packages/transformers/optimization.py:591: FutureWarning: This implementation of AdamW is deprecated and will be removed in a future version. Use the PyTorch implementation torch.optim.AdamW instead, or set `no_deprecation_warning=True` to disable this warning\n",
      "  warnings.warn(\n"
     ]
    }
   ],
   "source": [
    "# Preprocesar el texto y las etiquetas en el dataset\n",
    "cleaned_texts, cleaned_labels = preprocess_data(dataset)\n",
    "\n",
    "# Crear un dataset PyTorch para el modelo\n",
    "support_dataset = SupportDataset(cleaned_texts, cleaned_labels, tokenizer)\n",
    "\n",
    "# Crear un DataLoader con batch_size=1 para evitar problemas de tamaño\n",
    "train_loader = DataLoader(support_dataset, batch_size=1, shuffle=True)\n",
    "\n",
    "# Definir el optimizador y el plan de entrenamiento\n",
    "optimizer = AdamW(model.parameters(), lr=5e-5)\n",
    "epochs = 3  # Número de épocas de entrenamiento\n",
    "\n",
    "# Crear un scheduler para ajustar la tasa de aprendizaje durante el entrenamiento\n",
    "total_steps = len(train_loader) * epochs\n",
    "scheduler = get_linear_schedule_with_warmup(optimizer, num_warmup_steps=0, num_training_steps=total_steps)\n"
   ]
  },
  {
   "cell_type": "markdown",
   "metadata": {},
   "source": [
    "## 2.Entrenamiento"
   ]
  },
  {
   "cell_type": "code",
   "execution_count": 22,
   "metadata": {},
   "outputs": [
    {
     "name": "stdout",
     "output_type": "stream",
     "text": [
      "CUDA available: False\n",
      "MPS available: True\n",
      "Using device: mps\n"
     ]
    }
   ],
   "source": [
    "#revision de dsipositos\n",
    "import torch\n",
    "\n",
    "# Verificar si CUDA (NVIDIA GPU) está disponible\n",
    "cuda_available = torch.cuda.is_available()\n",
    "\n",
    "# Verificar si Metal (para Mac M1/M2/M3) está disponible\n",
    "mps_available = torch.backends.mps.is_available()\n",
    "\n",
    "# Verificar el dispositivo por defecto\n",
    "current_device = torch.device(\"cuda\" if cuda_available else \"mps\" if mps_available else \"cpu\")\n",
    "\n",
    "# Mostrar los dispositivos disponibles\n",
    "print(f\"CUDA available: {cuda_available}\")\n",
    "print(f\"MPS available: {mps_available}\")\n",
    "print(f\"Using device: {current_device}\")\n",
    "\n",
    "# Si CUDA está disponible, mostrar información sobre la GPU\n",
    "if cuda_available:\n",
    "    print(f\"CUDA Device: {torch.cuda.get_device_name(0)}\")\n",
    "    print(f\"CUDA Memory Allocated: {torch.cuda.memory_allocated(0)} bytes\")\n",
    "    print(f\"CUDA Memory Cached: {torch.cuda.memory_reserved(0)} bytes\")\n",
    "    \n",
    "\n"
   ]
  },
  {
   "cell_type": "code",
   "execution_count": 23,
   "metadata": {},
   "outputs": [
    {
     "name": "stdout",
     "output_type": "stream",
     "text": [
      "Using device: mps\n",
      "Epoch 1/8\n"
     ]
    },
    {
     "name": "stderr",
     "output_type": "stream",
     "text": [
      "Training Epoch: 100%|██████████| 539/539 [00:57<00:00,  9.34batch/s]\n"
     ]
    },
    {
     "name": "stdout",
     "output_type": "stream",
     "text": [
      "Training Loss: 0.5134\n"
     ]
    },
    {
     "name": "stderr",
     "output_type": "stream",
     "text": [
      "Evaluating: 100%|██████████| 539/539 [00:17<00:00, 30.01batch/s]\n"
     ]
    },
    {
     "name": "stdout",
     "output_type": "stream",
     "text": [
      "Validation Loss: 0.2749\n",
      "Epoch 1 took 75.69 seconds\n",
      "Epoch 2/8\n"
     ]
    },
    {
     "name": "stderr",
     "output_type": "stream",
     "text": [
      "Training Epoch: 100%|██████████| 539/539 [01:09<00:00,  7.80batch/s]\n"
     ]
    },
    {
     "name": "stdout",
     "output_type": "stream",
     "text": [
      "Training Loss: 0.2745\n"
     ]
    },
    {
     "name": "stderr",
     "output_type": "stream",
     "text": [
      "Evaluating: 100%|██████████| 539/539 [00:16<00:00, 32.34batch/s]\n"
     ]
    },
    {
     "name": "stdout",
     "output_type": "stream",
     "text": [
      "Validation Loss: 0.1786\n",
      "Epoch 2 took 85.76 seconds\n",
      "Epoch 3/8\n"
     ]
    },
    {
     "name": "stderr",
     "output_type": "stream",
     "text": [
      "Training Epoch: 100%|██████████| 539/539 [01:05<00:00,  8.25batch/s]\n"
     ]
    },
    {
     "name": "stdout",
     "output_type": "stream",
     "text": [
      "Training Loss: 0.1971\n"
     ]
    },
    {
     "name": "stderr",
     "output_type": "stream",
     "text": [
      "Evaluating: 100%|██████████| 539/539 [00:18<00:00, 28.37batch/s]\n"
     ]
    },
    {
     "name": "stdout",
     "output_type": "stream",
     "text": [
      "Validation Loss: 0.1207\n",
      "Epoch 3 took 84.35 seconds\n",
      "Epoch 4/8\n"
     ]
    },
    {
     "name": "stderr",
     "output_type": "stream",
     "text": [
      "Training Epoch: 100%|██████████| 539/539 [02:28<00:00,  3.64batch/s]\n"
     ]
    },
    {
     "name": "stdout",
     "output_type": "stream",
     "text": [
      "Training Loss: 0.1431\n"
     ]
    },
    {
     "name": "stderr",
     "output_type": "stream",
     "text": [
      "Evaluating: 100%|██████████| 539/539 [00:21<00:00, 24.78batch/s]\n"
     ]
    },
    {
     "name": "stdout",
     "output_type": "stream",
     "text": [
      "Validation Loss: 0.0813\n",
      "Epoch 4 took 169.90 seconds\n",
      "Epoch 5/8\n"
     ]
    },
    {
     "name": "stderr",
     "output_type": "stream",
     "text": [
      "Training Epoch: 100%|██████████| 539/539 [01:21<00:00,  6.63batch/s]\n"
     ]
    },
    {
     "name": "stdout",
     "output_type": "stream",
     "text": [
      "Training Loss: 0.1062\n"
     ]
    },
    {
     "name": "stderr",
     "output_type": "stream",
     "text": [
      "Evaluating: 100%|██████████| 539/539 [00:18<00:00, 29.40batch/s]\n"
     ]
    },
    {
     "name": "stdout",
     "output_type": "stream",
     "text": [
      "Validation Loss: 0.0565\n",
      "Epoch 5 took 99.61 seconds\n",
      "Epoch 6/8\n"
     ]
    },
    {
     "name": "stderr",
     "output_type": "stream",
     "text": [
      "Training Epoch: 100%|██████████| 539/539 [01:13<00:00,  7.33batch/s]\n"
     ]
    },
    {
     "name": "stdout",
     "output_type": "stream",
     "text": [
      "Training Loss: 0.0808\n"
     ]
    },
    {
     "name": "stderr",
     "output_type": "stream",
     "text": [
      "Evaluating: 100%|██████████| 539/539 [00:19<00:00, 27.31batch/s]\n"
     ]
    },
    {
     "name": "stdout",
     "output_type": "stream",
     "text": [
      "Validation Loss: 0.0422\n",
      "Epoch 6 took 93.31 seconds\n",
      "Epoch 7/8\n"
     ]
    },
    {
     "name": "stderr",
     "output_type": "stream",
     "text": [
      "Training Epoch: 100%|██████████| 539/539 [01:14<00:00,  7.27batch/s]\n"
     ]
    },
    {
     "name": "stdout",
     "output_type": "stream",
     "text": [
      "Training Loss: 0.0641\n"
     ]
    },
    {
     "name": "stderr",
     "output_type": "stream",
     "text": [
      "Evaluating: 100%|██████████| 539/539 [00:21<00:00, 24.79batch/s]\n"
     ]
    },
    {
     "name": "stdout",
     "output_type": "stream",
     "text": [
      "Validation Loss: 0.0340\n",
      "Epoch 7 took 95.92 seconds\n",
      "Epoch 8/8\n"
     ]
    },
    {
     "name": "stderr",
     "output_type": "stream",
     "text": [
      "Training Epoch: 100%|██████████| 539/539 [01:25<00:00,  6.27batch/s]\n"
     ]
    },
    {
     "name": "stdout",
     "output_type": "stream",
     "text": [
      "Training Loss: 0.0546\n"
     ]
    },
    {
     "name": "stderr",
     "output_type": "stream",
     "text": [
      "Evaluating: 100%|██████████| 539/539 [00:19<00:00, 27.03batch/s]\n"
     ]
    },
    {
     "name": "stdout",
     "output_type": "stream",
     "text": [
      "Validation Loss: 0.0313\n",
      "Epoch 8 took 105.92 seconds\n"
     ]
    },
    {
     "data": {
      "text/plain": [
       "('gen_tokenizerv1/tokenizer_config.json',\n",
       " 'gen_tokenizerv1/special_tokens_map.json',\n",
       " 'gen_tokenizerv1/vocab.json',\n",
       " 'gen_tokenizerv1/merges.txt',\n",
       " 'gen_tokenizerv1/added_tokens.json')"
      ]
     },
     "execution_count": 23,
     "metadata": {},
     "output_type": "execute_result"
    }
   ],
   "source": [
    "device = torch.device(\"mps\" if torch.backends.mps.is_available() else \"cuda\" if torch.cuda.is_available() else \"cpu\")\n",
    "\n",
    "print(f\"Using device: {device}\")\n",
    "# Mover el modelo al dispositivo\n",
    "model.to(device)\n",
    "optimizer = AdamW(model.parameters(), lr=5e-5)\n",
    "epochs = 8  # Número de épocas de entrenamiento\n",
    "\n",
    "# Crear un scheduler para ajustar la tasa de aprendizaje durante el entrenamiento\n",
    "total_steps = len(train_loader) * epochs\n",
    "scheduler = get_linear_schedule_with_warmup(optimizer, num_warmup_steps=0, num_training_steps=total_steps)\n",
    "\n",
    "# Entrenamiento\n",
    "def train(model, train_loader, optimizer, scheduler, device):\n",
    "    model.train()\n",
    "    total_loss = 0\n",
    "    all_labels = []\n",
    "    all_predictions = []\n",
    "    \n",
    "    for batch in tqdm(train_loader, desc=\"Training Epoch\", unit=\"batch\"):\n",
    "        input_ids = batch['input_ids'].to(device)\n",
    "        attention_mask = batch['attention_mask'].to(device)\n",
    "        labels = batch['labels'].to(device)\n",
    "\n",
    "        # Limpiar gradientes previos\n",
    "        optimizer.zero_grad()\n",
    "\n",
    "        # Generar las predicciones del modelo\n",
    "        outputs = model(input_ids=input_ids, attention_mask=attention_mask, labels=labels)\n",
    "\n",
    "        # Obtener la pérdida\n",
    "        loss = outputs.loss\n",
    "        total_loss += loss.item()\n",
    "\n",
    "        # Retropropagación\n",
    "        loss.backward()\n",
    "        optimizer.step()\n",
    "        scheduler.step()\n",
    "    return total_loss / len(train_loader)\n",
    "\n",
    "# Evaluación\n",
    "def evaluate(model, train_loader, device):\n",
    "    model.eval()\n",
    "    total_loss = 0\n",
    "    all_labels = []\n",
    "    all_predictions = []\n",
    "\n",
    "\n",
    "    with torch.no_grad():\n",
    "        for batch in tqdm(train_loader, desc=\"Evaluating\", unit=\"batch\"):\n",
    "            input_ids = batch['input_ids'].to(device)\n",
    "            attention_mask = batch['attention_mask'].to(device)\n",
    "            labels = batch['labels'].to(device)\n",
    "\n",
    "            # Generar las predicciones del modelo\n",
    "            outputs = model(input_ids=input_ids, attention_mask=attention_mask, labels=labels)\n",
    "\n",
    "            # Obtener la pérdida\n",
    "            loss = outputs.loss\n",
    "            total_loss += loss.item()\n",
    "            \n",
    "    return total_loss / len(train_loader)\n",
    "\n",
    "###############################################################################\n",
    "#Entrenamiento\n",
    "\n",
    "\n",
    "# Inicializar las listas para almacenar los resultados\n",
    "train_losses = []\n",
    "val_losses = []\n",
    "\n",
    "for epoch in range(epochs):\n",
    "    start_time = time.time()  # Medir el tiempo de inicio de la época\n",
    "    print(f\"Epoch {epoch + 1}/{epochs}\")\n",
    "\n",
    "\n",
    "    # Entrenamiento\n",
    "    train_loss  = train(model, train_loader, optimizer, scheduler, device)\n",
    "    train_losses.append(train_loss)\n",
    "    \n",
    "    print(f\"Training Loss: {train_loss:.4f}\")\n",
    "\n",
    "    # Evaluación\n",
    "    val_loss = evaluate(model, train_loader, device)\n",
    "    val_losses.append(val_loss)\n",
    "    print(f\"Validation Loss: {val_loss:.4f}\")\n",
    "    \n",
    "    epoch_time = time.time() - start_time\n",
    "    print(f\"Epoch {epoch + 1} took {epoch_time:.2f} seconds\")\n",
    "\n",
    "\n",
    "\n",
    "# Guardar el modelo entrenado y tokenizador\n",
    "model.save_pretrained(\"gen_modelo_soportev1\")\n",
    "tokenizer.save_pretrained(\"gen_tokenizerv1\")\n",
    "\n"
   ]
  },
  {
   "cell_type": "code",
   "execution_count": 24,
   "metadata": {},
   "outputs": [
    {
     "data": {
      "image/png": "[encoded data removed]",
      "text/plain": [
       "<Figure size 3000x2000 with 2 Axes>"
      ]
     },
     "metadata": {},
     "output_type": "display_data"
    }
   ],
   "source": [
    "# Resultados\n",
    "fig, axs = plt.subplots(1, 2, figsize=(30, 20))\n",
    "\n",
    "# Gráfico de la pérdida\n",
    "axs[0].plot(range(1, epochs + 1), train_losses, label='Training Loss', marker='o')\n",
    "axs[0].plot(range(1, epochs + 1), val_losses, label='Validation Loss', marker='o')\n",
    "axs[0].set_title('Training and Validation Loss')\n",
    "axs[0].set_xlabel('Epoch')\n",
    "axs[0].set_ylabel('Loss')\n",
    "axs[0].legend()\n",
    "axs[0].grid(True)\n",
    "\n",
    "\n",
    "plt.tight_layout()  # Ajustar el espaciado entre los subgráficos\n",
    "plt.show()"
   ]
  },
  {
   "cell_type": "markdown",
   "metadata": {},
   "source": [
    "## 3.Pruebas"
   ]
  },
  {
   "cell_type": "code",
   "execution_count": 25,
   "metadata": {},
   "outputs": [
    {
     "name": "stderr",
     "output_type": "stream",
     "text": [
      "Setting `pad_token_id` to `eos_token_id`:50256 for open-end generation.\n"
     ]
    },
    {
     "data": {
      "text/plain": [
       "'. por favor, verifica que se encuentre bien. gracias!'"
      ]
     },
     "execution_count": 25,
     "metadata": {},
     "output_type": "execute_result"
    }
   ],
   "source": [
    "# Función para generar texto con el modelo cargado\n",
    "def generate_text(prompt, model, tokenizer, device, max_length=50):\n",
    "    model.eval()\n",
    "    inputs = tokenizer(prompt, return_tensors='pt').to(device)\n",
    "\n",
    "    # Generar texto con el modelo\n",
    "    outputs = model.generate(inputs['input_ids'], attention_mask=inputs['attention_mask'], max_new_tokens=max_length)\n",
    "    generated_text = tokenizer.decode(outputs[0], skip_special_tokens=True)\n",
    "    generated_text=generated_text.replace(prompt,'',1)\n",
    "    return generated_text\n",
    "\n",
    "text=\"hola, quisiera solicitar una cotización para el servicio de catering?\"\n",
    "generated_response_2 = generate_text(text, model, tokenizer, device)\n",
    "generated_response_2"
   ]
  },
  {
   "cell_type": "markdown",
   "metadata": {},
   "source": [
    "## 4.Interfaz  Básica(app.py)"
   ]
  },
  {
   "cell_type": "code",
   "execution_count": 26,
   "metadata": {},
   "outputs": [
    {
     "data": {
      "text/plain": [
       "'\\n\\nimport streamlit as st\\nfrom transformers import GPT2Tokenizer, GPT2LMHeadModel\\nimport torch\\n\\n\\n# Cargar el modelo y el tokenizador guardado\\nmodel = GPT2LMHeadModel.from_pretrained(\"gen_modelo_soportev1\")\\ntokenizer = GPT2Tokenizer.from_pretrained(\"gen_tokenizerv1\")\\n\\n\\n# Configuración del modelo y dispositivo (GPU o CPU)\\ndevice = torch.device(\"cuda\" if torch.cuda.is_available() else \"cpu\")\\nmodel.to(device)\\n\\n# Función para generar texto de prueba\\ndef generate_text(prompt):\\n    model.eval()\\n    inputs = tokenizer(prompt, return_tensors=\\'pt\\').to(device)\\n\\n    # Generar texto con el modelo\\n    outputs = model.generate(inputs[\\'input_ids\\'], attention_mask=inputs[\\'attention_mask\\'], max_new_tokens=50)\\n    generated_text = tokenizer.decode(outputs[0], skip_special_tokens=True)\\n    generated_text=generated_text.replace(prompt,\\'\\',1)\\n\\n    return generated_text\\n\\n# Título de la aplicación\\nst.title(\"Asistente Virtual de Soporte al Cliente\")\\n\\n# Ingreso de texto por parte del usuario\\nuser_input = st.text_input(\"¿Cómo puedo ayudarte hoy?\", \"\")\\n\\n# Mostrar la respuesta generada cuando el usuario ingresa una pregunta\\nif user_input:\\n    generated_response = generate_text(user_input)\\n    st.write(f\"**Respuesta generada:** {generated_response}\")\\n\\n\\n'"
      ]
     },
     "execution_count": 26,
     "metadata": {},
     "output_type": "execute_result"
    }
   ],
   "source": [
    "'''\n",
    "\n",
    "import streamlit as st\n",
    "from transformers import GPT2Tokenizer, GPT2LMHeadModel\n",
    "import torch\n",
    "\n",
    "\n",
    "# Cargar el modelo y el tokenizador guardado\n",
    "model = GPT2LMHeadModel.from_pretrained(\"gen_modelo_soportev1\")\n",
    "tokenizer = GPT2Tokenizer.from_pretrained(\"gen_tokenizerv1\")\n",
    "\n",
    "\n",
    "# Configuración del modelo y dispositivo (GPU o CPU)\n",
    "device = torch.device(\"cuda\" if torch.cuda.is_available() else \"cpu\")\n",
    "model.to(device)\n",
    "\n",
    "# Función para generar texto de prueba\n",
    "def generate_text(prompt):\n",
    "    model.eval()\n",
    "    inputs = tokenizer(prompt, return_tensors='pt').to(device)\n",
    "\n",
    "    # Generar texto con el modelo\n",
    "    outputs = model.generate(inputs['input_ids'], attention_mask=inputs['attention_mask'], max_new_tokens=50)\n",
    "    generated_text = tokenizer.decode(outputs[0], skip_special_tokens=True)\n",
    "    generated_text=generated_text.replace(prompt,'',1)\n",
    "\n",
    "    return generated_text\n",
    "\n",
    "# Título de la aplicación\n",
    "st.title(\"Asistente Virtual de Soporte al Cliente\")\n",
    "\n",
    "# Ingreso de texto por parte del usuario\n",
    "user_input = st.text_input(\"¿Cómo puedo ayudarte hoy?\", \"\")\n",
    "\n",
    "# Mostrar la respuesta generada cuando el usuario ingresa una pregunta\n",
    "if user_input:\n",
    "    generated_response = generate_text(user_input)\n",
    "    st.write(f\"**Respuesta generada:** {generated_response}\")\n",
    "\n",
    "\n",
    "'''"
   ]
  },
  {
   "cell_type": "markdown",
   "metadata": {},
   "source": [
    "## 5. Ejecucion de interfaz mínima"
   ]
  },
  {
   "cell_type": "code",
   "execution_count": 27,
   "metadata": {},
   "outputs": [
    {
     "name": "stdout",
     "output_type": "stream",
     "text": [
      "\u001b[0m\n",
      "\u001b[34m\u001b[1m  You can now view your Streamlit app in your browser.\u001b[0m\n",
      "\u001b[0m\n",
      "\u001b[34m  Local URL: \u001b[0m\u001b[1mhttp://localhost:8501\u001b[0m\n",
      "\u001b[34m  Network URL: \u001b[0m\u001b[1mhttp://192.168.100.62:8501\u001b[0m\n",
      "\u001b[0m\n",
      "\u001b[34m\u001b[1m  For better performance, install the Watchdog module:\u001b[0m\n",
      "\n",
      "  $ xcode-select --install\n",
      "  $ pip install watchdog\n",
      "            \u001b[0m\n",
      "2025-02-02 14:07:17.689 Examining the path of torch.classes raised: Tried to instantiate class '__path__._path', but it does not exist! Ensure that it is registered via torch::class_\n",
      "Setting `pad_token_id` to `eos_token_id`:50256 for open-end generation.\n",
      "Setting `pad_token_id` to `eos_token_id`:50256 for open-end generation.\n",
      "Setting `pad_token_id` to `eos_token_id`:50256 for open-end generation.\n",
      "Setting `pad_token_id` to `eos_token_id`:50256 for open-end generation.\n",
      "Setting `pad_token_id` to `eos_token_id`:50256 for open-end generation.\n",
      "^C\n",
      "\u001b[34m  Stopping...\u001b[0m\n"
     ]
    }
   ],
   "source": [
    "!streamlit run app.py"
   ]
  },
  {
   "cell_type": "markdown",
   "metadata": {},
   "source": [
    "## 6.Publicacion"
   ]
  },
  {
   "cell_type": "markdown",
   "metadata": {},
   "source": [
    "## Comandos\n",
    "\n",
    "#ingresar#############################\n",
    "huggingface-cli login\n",
    "\n",
    "#CrearRepositorio para modelo#################################################\n",
    "huggingface-cli repo create gen_modelo_soportev1 --type=model\n",
    "cd gen_modelo_soportev1\n",
    "git init\n",
    "git lfs install\n",
    "git remote add origin https://huggingface.co/vmontaluisa/gen_modelo_soportev1\n",
    "git add .\n",
    "git lfs track \"*.*\"  \n",
    "git commit -m \"Initial commit gen_modelo_soportev1\"\n",
    "git push origin master\n",
    "\n",
    "\n",
    "#enlace de punlicacacion modelo\n",
    "https://huggingface.co/your-username/gen_modelo_soportev1/'\n",
    "\n",
    "\n",
    "\n",
    "#Crear repositorio para dataset##################################\n",
    "\n",
    "cd dataset\n",
    "git lfs install\n",
    "git init\n",
    "git remote add origin https://huggingface.co/datasets/vmontaluisa/dataset_gen_modelo_soportev1\n",
    "git pull origin main\n",
    "git lfs track \"*.json\"   # Ejemplo para rastrear archivos JSON grandes\n",
    "git lfs track \"test/*\"\n",
    "git lfs track \"train/*\"\n",
    "git add .\n",
    "git push origin master\n",
    "\n",
    "\n",
    "#Para actualizar Repositorio\n",
    "cd dataset\n",
    "git status\n",
    "git add .\n",
    "\n",
    "\n",
    "git push origin master\n",
    "\n",
    "#enlace de publicacion dataset\n",
    "https://huggingface.co/datasets/vmontaluisa/dataset_gen_modelo_soportev1\n",
    "\n",
    "\n",
    "\n"
   ]
  },
  {
   "cell_type": "markdown",
   "metadata": {},
   "source": [
    "## EL TAMANO DEL ARCHIVO NO ME PERMITIO SUBIR \n",
    "\n",
    "victormontaluisa@EPSILON gen_modelo_soportev1 % git push -f origin master                                     \n",
    "Uploading LFS objects: 100% (4/4), 498 MB | 5.3 MB/s, done.                                                                                                                                                      \n",
    "Enumerando objetos: 11, listo.\n",
    "Contando objetos: 100% (11/11), listo.\n",
    "Compresión delta usando hasta 16 hilos\n",
    "Comprimiendo objetos: 100% (11/11), listo.\n",
    "Escribiendo objetos: 100% (11/11), 440.15 MiB | 1.92 MiB/s, listo.\n",
    "Total 11 (delta 1), reused 0 (delta 0), pack-reused 0 (from 0)\n",
    "remote: -------------------------------------------------------------------------\n",
    "remote: Your push was rejected because it contains files larger than 10 MiB.\n",
    "remote: Please use https://git-lfs.github.com/ to store large files.\n",
    "remote: See also: https://hf.co/docs/hub/repositories-getting-started#terminal\n",
    "remote: \n",
    "remote: Offending files:\n",
    "remote:   - model.safetensors (ref: refs/heads/master)\n",
    "remote: -------------------------------------------------------------------------\n",
    "To https://huggingface.co/vmontaluisa/gen_modelo_soportev1\n",
    " ! [remote rejected] master -> master (pre-receive hook declined)\n",
    "error: falló el empuje de algunas referencias a 'https://huggingface.co/vmontaluisa/gen_modelo_soportev1'"
   ]
  }
 ],
 "metadata": {
  "kernelspec": {
   "display_name": "Python 3",
   "language": "python",
   "name": "python3"
  },
  "language_info": {
   "codemirror_mode": {
    "name": "ipython",
    "version": 3
   },
   "file_extension": ".py",
   "mimetype": "text/x-python",
   "name": "python",
   "nbconvert_exporter": "python",
   "pygments_lexer": "ipython3",
   "version": "3.11.11"
  }
 },
 "nbformat": 4,
 "nbformat_minor": 2
}
